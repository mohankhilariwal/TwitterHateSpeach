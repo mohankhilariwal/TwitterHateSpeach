{
  "nbformat": 4,
  "nbformat_minor": 0,
  "metadata": {
    "colab": {
      "name": "AV-Hate Speech Classification.ipynb",
      "provenance": []
    },
    "kernelspec": {
      "name": "python3",
      "display_name": "Python 3"
    }
  },
  "cells": [
    {
      "cell_type": "code",
      "metadata": {
        "id": "cQJSPN97HR5U",
        "colab_type": "code",
        "colab": {}
      },
      "source": [
        ""
      ],
      "execution_count": 0,
      "outputs": []
    },
    {
      "cell_type": "markdown",
      "metadata": {
        "id": "sm7ZkjxZHab7",
        "colab_type": "text"
      },
      "source": [
        "## Download the dataset directly from analyicsVidhya"
      ]
    },
    {
      "cell_type": "code",
      "metadata": {
        "id": "5KdYy14aHggX",
        "colab_type": "code",
        "colab": {
          "base_uri": "https://localhost:8080/",
          "height": 204
        },
        "outputId": "16e8414e-ccf4-48f1-a7ca-7dd777e04ad4"
      },
      "source": [
        "\n",
        "#Downloading the Training Datasets\n",
        "#!wget --no-check-certificate \\\n",
        "#      \"https://datahack.analyticsvidhya.com/contest/practice-problem-twitter-sentiment-analysis/download/train-file/train_E6oV3lV.csv\"\\\n",
        "#      -O \"/tmp/train_tweets.csv\"\n",
        "\n",
        "!wget --no-check-certificate \\\n",
        "      \"https://datahack-prod.s3.amazonaws.com/train_file/train_E6oV3lV.csv\"\\\n",
        "      -O \"/tmp/train_tweets.csv\""
      ],
      "execution_count": 1,
      "outputs": [
        {
          "output_type": "stream",
          "text": [
            "--2020-06-04 05:12:30--  https://datahack-prod.s3.amazonaws.com/train_file/train_E6oV3lV.csv\n",
            "Resolving datahack-prod.s3.amazonaws.com (datahack-prod.s3.amazonaws.com)... 52.219.62.96\n",
            "Connecting to datahack-prod.s3.amazonaws.com (datahack-prod.s3.amazonaws.com)|52.219.62.96|:443... connected.\n",
            "HTTP request sent, awaiting response... 200 OK\n",
            "Length: 3103165 (3.0M) [text/csv]\n",
            "Saving to: ‘/tmp/train_tweets.csv’\n",
            "\n",
            "/tmp/train_tweets.c 100%[===================>]   2.96M  1.63MB/s    in 1.8s    \n",
            "\n",
            "2020-06-04 05:12:33 (1.63 MB/s) - ‘/tmp/train_tweets.csv’ saved [3103165/3103165]\n",
            "\n"
          ],
          "name": "stdout"
        }
      ]
    },
    {
      "cell_type": "code",
      "metadata": {
        "id": "qYFnRl35IADq",
        "colab_type": "code",
        "colab": {
          "base_uri": "https://localhost:8080/",
          "height": 204
        },
        "outputId": "2c1fd72e-9859-4d65-b073-55a0ee096551"
      },
      "source": [
        "# Downloading the Testing Datasets\n",
        "!wget --no-check-certificate \\\n",
        "      \"https://datahack-prod.s3.amazonaws.com/test_file/test_tweets_anuFYb8.csv\"\\\n",
        "      -O \"/tmp/test_tweets.csv\""
      ],
      "execution_count": 2,
      "outputs": [
        {
          "output_type": "stream",
          "text": [
            "--2020-06-04 05:12:45--  https://datahack-prod.s3.amazonaws.com/test_file/test_tweets_anuFYb8.csv\n",
            "Resolving datahack-prod.s3.amazonaws.com (datahack-prod.s3.amazonaws.com)... 52.219.64.64\n",
            "Connecting to datahack-prod.s3.amazonaws.com (datahack-prod.s3.amazonaws.com)|52.219.64.64|:443... connected.\n",
            "HTTP request sent, awaiting response... 200 OK\n",
            "Length: 1635543 (1.6M) [text/csv]\n",
            "Saving to: ‘/tmp/test_tweets.csv’\n",
            "\n",
            "/tmp/test_tweets.cs 100%[===================>]   1.56M  1.09MB/s    in 1.4s    \n",
            "\n",
            "2020-06-04 05:12:48 (1.09 MB/s) - ‘/tmp/test_tweets.csv’ saved [1635543/1635543]\n",
            "\n"
          ],
          "name": "stdout"
        }
      ]
    },
    {
      "cell_type": "code",
      "metadata": {
        "id": "5P2GJI-XI5wY",
        "colab_type": "code",
        "colab": {}
      },
      "source": [
        "import numpy as np\n",
        "import pandas as pd\n",
        "df_train=pd.read_csv('/tmp/train_tweets.csv')\n",
        "df_test=pd.read_csv('/tmp/test_tweets.csv')"
      ],
      "execution_count": 0,
      "outputs": []
    },
    {
      "cell_type": "code",
      "metadata": {
        "id": "qF0udZ0TJKXW",
        "colab_type": "code",
        "colab": {
          "base_uri": "https://localhost:8080/",
          "height": 204
        },
        "outputId": "7dbed448-9484-4c29-b11b-4acefe14fec4"
      },
      "source": [
        "\n",
        "df_train.head()"
      ],
      "execution_count": 4,
      "outputs": [
        {
          "output_type": "execute_result",
          "data": {
            "text/html": [
              "<div>\n",
              "<style scoped>\n",
              "    .dataframe tbody tr th:only-of-type {\n",
              "        vertical-align: middle;\n",
              "    }\n",
              "\n",
              "    .dataframe tbody tr th {\n",
              "        vertical-align: top;\n",
              "    }\n",
              "\n",
              "    .dataframe thead th {\n",
              "        text-align: right;\n",
              "    }\n",
              "</style>\n",
              "<table border=\"1\" class=\"dataframe\">\n",
              "  <thead>\n",
              "    <tr style=\"text-align: right;\">\n",
              "      <th></th>\n",
              "      <th>id</th>\n",
              "      <th>label</th>\n",
              "      <th>tweet</th>\n",
              "    </tr>\n",
              "  </thead>\n",
              "  <tbody>\n",
              "    <tr>\n",
              "      <th>0</th>\n",
              "      <td>1</td>\n",
              "      <td>0</td>\n",
              "      <td>@user when a father is dysfunctional and is s...</td>\n",
              "    </tr>\n",
              "    <tr>\n",
              "      <th>1</th>\n",
              "      <td>2</td>\n",
              "      <td>0</td>\n",
              "      <td>@user @user thanks for #lyft credit i can't us...</td>\n",
              "    </tr>\n",
              "    <tr>\n",
              "      <th>2</th>\n",
              "      <td>3</td>\n",
              "      <td>0</td>\n",
              "      <td>bihday your majesty</td>\n",
              "    </tr>\n",
              "    <tr>\n",
              "      <th>3</th>\n",
              "      <td>4</td>\n",
              "      <td>0</td>\n",
              "      <td>#model   i love u take with u all the time in ...</td>\n",
              "    </tr>\n",
              "    <tr>\n",
              "      <th>4</th>\n",
              "      <td>5</td>\n",
              "      <td>0</td>\n",
              "      <td>factsguide: society now    #motivation</td>\n",
              "    </tr>\n",
              "  </tbody>\n",
              "</table>\n",
              "</div>"
            ],
            "text/plain": [
              "   id  label                                              tweet\n",
              "0   1      0   @user when a father is dysfunctional and is s...\n",
              "1   2      0  @user @user thanks for #lyft credit i can't us...\n",
              "2   3      0                                bihday your majesty\n",
              "3   4      0  #model   i love u take with u all the time in ...\n",
              "4   5      0             factsguide: society now    #motivation"
            ]
          },
          "metadata": {
            "tags": []
          },
          "execution_count": 4
        }
      ]
    },
    {
      "cell_type": "code",
      "metadata": {
        "id": "zdVRyV_MJRFW",
        "colab_type": "code",
        "colab": {
          "base_uri": "https://localhost:8080/",
          "height": 363
        },
        "outputId": "65fe649f-88ce-4bbc-c2d9-fde5aef466bb"
      },
      "source": [
        "# Analysis the Label Distribution in training dataframe\n",
        "import numpy as np\n",
        "import matplotlib.pyplot as plt\n",
        "plt.bar([0,1], df_train['label'].value_counts(), width=0.5, bottom=None, align='center', data=df_train)\n",
        "plt.title('Labels Distribution')\n",
        "plt.xlabel('Labels')\n",
        "plt.ylabel('Frequency')\n",
        "plt.xticks(np.arange(0, 1, step=2))\n",
        "print('Labels Distribution:\\n',df_train['label'].value_counts())"
      ],
      "execution_count": 5,
      "outputs": [
        {
          "output_type": "stream",
          "text": [
            "Labels Distribution:\n",
            " 0    29720\n",
            "1     2242\n",
            "Name: label, dtype: int64\n"
          ],
          "name": "stdout"
        },
        {
          "output_type": "display_data",
          "data": {
            "image/png": "[encoded data removed]",
            "text/plain": [
              "<Figure size 432x288 with 1 Axes>"
            ]
          },
          "metadata": {
            "tags": [],
            "needs_background": "light"
          }
        }
      ]
    },
    {
      "cell_type": "code",
      "metadata": {
        "id": "TEt8ov38Jt8J",
        "colab_type": "code",
        "colab": {}
      },
      "source": [
        ""
      ],
      "execution_count": 0,
      "outputs": []
    },
    {
      "cell_type": "markdown",
      "metadata": {
        "id": "Q1esVXJxJ_Zm",
        "colab_type": "text"
      },
      "source": [
        "## Distribution Analysis says, its a imbalanced data"
      ]
    },
    {
      "cell_type": "code",
      "metadata": {
        "id": "Zg0C0MD8KHS2",
        "colab_type": "code",
        "colab": {
          "base_uri": "https://localhost:8080/",
          "height": 119
        },
        "outputId": "b24f0bc6-edf9-472d-ed80-9645b9bf601d"
      },
      "source": [
        "#Functions for Preprocessing the Dataset\n",
        "import nltk\n",
        "from nltk import word_tokenize\n",
        "nltk.download('stopwords')\n",
        "from nltk.corpus import stopwords\n",
        "nltk.download('punkt')\n",
        "stop_words = set(stopwords.words('english'))\n",
        "from textblob import Word\n",
        "nltk.download('wordnet')\n",
        "\n",
        "def mystopwords(text):\n",
        "    return ' '.join([w for w in word_tokenize(text) if not w in stop_words])\n",
        "\n",
        "def lemmatize(text):\n",
        "    return ' '.join([Word(word).lemmatize() for word in text.split()])\n",
        "\n",
        "import re\n",
        "def clean_text(string):\n",
        "  #removing usernames from tweets\n",
        "  clean=re.sub('@[a-zA-Z0-9_]+', '', string) \n",
        "  #remove newline character\n",
        "  clean=re.sub('[\\n]',' ',clean) \n",
        "  #remove non alphabetic characters\n",
        "  clean=re.sub('[^a-zA-Z\\']',' ',clean) \n",
        "  #remove stopwords (It was causing the issue in Model train , the dimensions werr getting impacted, hence removed)\n",
        "  #clean=mystopwords(clean) \n",
        "  #clean=lemmatize(clean)\n",
        "  #removing unnecessary spaces\n",
        "  clean=' '.join(clean.split()) \n",
        "  return clean"
      ],
      "execution_count": 6,
      "outputs": [
        {
          "output_type": "stream",
          "text": [
            "[nltk_data] Downloading package stopwords to /root/nltk_data...\n",
            "[nltk_data]   Unzipping corpora/stopwords.zip.\n",
            "[nltk_data] Downloading package punkt to /root/nltk_data...\n",
            "[nltk_data]   Unzipping tokenizers/punkt.zip.\n",
            "[nltk_data] Downloading package wordnet to /root/nltk_data...\n",
            "[nltk_data]   Unzipping corpora/wordnet.zip.\n"
          ],
          "name": "stdout"
        }
      ]
    },
    {
      "cell_type": "code",
      "metadata": {
        "id": "GaT5rPpJKnam",
        "colab_type": "code",
        "colab": {}
      },
      "source": [
        "#Cleaning the training dataset and separating the texts and labels\n",
        "tweets=[]\n",
        "labels=[]\n",
        "for i in range(len(df_train)):\n",
        "  labels.append(df_train['label'][i])\n",
        "  tweets.append(clean_text(df_train['tweet'][i]))\n",
        "  \n",
        "#Cleaning the testing dataset \n",
        "test_tweets=[]\n",
        "for i in range(len(df_test)):\n",
        "  test_tweets.append(clean_text(df_test['tweet'][i]))"
      ],
      "execution_count": 0,
      "outputs": []
    },
    {
      "cell_type": "code",
      "metadata": {
        "id": "WsKsC6q9K7yw",
        "colab_type": "code",
        "colab": {
          "base_uri": "https://localhost:8080/",
          "height": 71
        },
        "outputId": "da0926c6-005d-4197-bfd1-edee9fe00c67"
      },
      "source": [
        "#Example of a tweet before and after cleaning\n",
        "print('Tweet before cleaning: ',df_train['tweet'][1])\n",
        "print('Tweet after cleaning: ',tweets[1])"
      ],
      "execution_count": 8,
      "outputs": [
        {
          "output_type": "stream",
          "text": [
            "Tweet before cleaning:  @user @user thanks for #lyft credit i can't use cause they don't offer wheelchair vans in pdx.    #disapointed #getthanked\n",
            "Tweet after cleaning:  thanks for lyft credit i can't use cause they don't offer wheelchair vans in pdx disapointed getthanked\n"
          ],
          "name": "stdout"
        }
      ]
    },
    {
      "cell_type": "code",
      "metadata": {
        "id": "hpONGC6vLJ6b",
        "colab_type": "code",
        "colab": {
          "base_uri": "https://localhost:8080/",
          "height": 496
        },
        "outputId": "2de40d3d-67f1-41ef-9052-256694b2f6dc"
      },
      "source": [
        "#Word Cloud of Top 100 Words in Hate Tweets \n",
        "from wordcloud import WordCloud, STOPWORDS  \n",
        "hate=[]\n",
        "#getting the hate tweets\n",
        "for i in range(len(tweets)): \n",
        "  if labels[i]==1:\n",
        "    hate.append(tweets[i])\n",
        "#transforming the list of hate tweets into a single sentence\n",
        "h=' '.join(hate)  \n",
        "h=mystopwords(h)\n",
        "stopwords = set(STOPWORDS)\n",
        "wordcloud = WordCloud(width = 800, height = 800, \n",
        "                background_color ='black', \n",
        "                stopwords = stopwords, \n",
        "                min_font_size = 20,max_words=100).generate(h)\n",
        "# plot the WordCloud image                        \n",
        "plt.figure(figsize = (6, 6), facecolor = None) \n",
        "plt.imshow(wordcloud) \n",
        "plt.axis(\"off\") \n",
        "plt.tight_layout(pad = 0) \n",
        "plt.title('Top 100 Words in the Hate Tweets')"
      ],
      "execution_count": 9,
      "outputs": [
        {
          "output_type": "execute_result",
          "data": {
            "text/plain": [
              "Text(0.5, 1.0, 'Top 100 Words in the Hate Tweets')"
            ]
          },
          "metadata": {
            "tags": []
          },
          "execution_count": 9
        },
        {
          "output_type": "display_data",
          "data": {
            "image/png": "[encoded data removed]",
            "text/plain": [
              "<Figure size 432x432 with 1 Axes>"
            ]
          },
          "metadata": {
            "tags": [],
            "needs_background": "light"
          }
        }
      ]
    },
    {
      "cell_type": "code",
      "metadata": {
        "id": "6ZuALNEdLn78",
        "colab_type": "code",
        "colab": {}
      },
      "source": [
        "\n",
        "#Suffling the data and splitting the data into train and test sets (90:10)\n",
        "from sklearn.model_selection import train_test_split\n",
        "train_tweets, val_tweets, train_labels, val_labels= train_test_split(tweets, labels, test_size=0.1, shuffle= True,random_state=53)"
      ],
      "execution_count": 0,
      "outputs": []
    },
    {
      "cell_type": "code",
      "metadata": {
        "id": "_ZaLZrWxL87S",
        "colab_type": "code",
        "colab": {
          "base_uri": "https://localhost:8080/",
          "height": 85
        },
        "outputId": "91c5dae4-cf4e-4eb5-9ce0-450a1cb42efb"
      },
      "source": [
        "#Data Summary\n",
        "print('Length of the Training Set: ',len(df_train))\n",
        "print('No. of Training Examples: ',len(train_tweets))\n",
        "print('No. of Validation Examples: ',len(val_tweets))\n",
        "print('No. of Test Examples: ',len(test_tweets))"
      ],
      "execution_count": 11,
      "outputs": [
        {
          "output_type": "stream",
          "text": [
            "Length of the Training Set:  31962\n",
            "No. of Training Examples:  28765\n",
            "No. of Validation Examples:  3197\n",
            "No. of Test Examples:  17197\n"
          ],
          "name": "stdout"
        }
      ]
    },
    {
      "cell_type": "code",
      "metadata": {
        "id": "ttGS_aRDMEN0",
        "colab_type": "code",
        "colab": {
          "base_uri": "https://localhost:8080/",
          "height": 34
        },
        "outputId": "000f475c-52d2-497c-d521-2d2bbd38d84e"
      },
      "source": [
        "#Tokenization and Padding\n",
        "import tensorflow as tf\n",
        "import numpy as np\n",
        "\n",
        "from tensorflow.keras.preprocessing.text import Tokenizer\n",
        "from tensorflow.keras.preprocessing.sequence import pad_sequences\n",
        "\n",
        "\n",
        "#embedding_dim = 200\n",
        "max_length = 40\n",
        "trunc_type='post'\n",
        "padding_type='post'\n",
        "oov_tok = \"<OOV>\"\n",
        "vocab_len = 49999\n",
        "\n",
        "tokenizer = Tokenizer(num_words=vocab_len+1,oov_token=oov_tok)\n",
        "tokenizer.fit_on_texts(tweets)\n",
        "\n",
        "word_index = tokenizer.word_index\n",
        "vocab_size=len(word_index)+1 \n",
        "print('Size of Vocabulary: ',vocab_size)\n",
        "\n",
        "train_sequences = tokenizer.texts_to_sequences(train_tweets)\n",
        "train_padded = pad_sequences(train_sequences, maxlen=max_length, padding=padding_type, truncating=trunc_type)\n",
        "\n",
        "val_sequences = tokenizer.texts_to_sequences(val_tweets)\n",
        "val_padded = pad_sequences(val_sequences, maxlen=max_length, padding=padding_type, truncating=trunc_type)\n",
        "\n",
        "test_sequences = tokenizer.texts_to_sequences(test_tweets)\n",
        "test_padded = pad_sequences(test_sequences, maxlen=max_length, padding=padding_type, truncating=trunc_type)\n",
        "\n",
        "train_labels=np.expand_dims(train_labels, axis=1)\n",
        "val_labels=np.expand_dims(val_labels, axis=1)"
      ],
      "execution_count": 12,
      "outputs": [
        {
          "output_type": "stream",
          "text": [
            "Size of Vocabulary:  38364\n"
          ],
          "name": "stdout"
        }
      ]
    },
    {
      "cell_type": "code",
      "metadata": {
        "id": "zE1FQM9FOBlX",
        "colab_type": "code",
        "colab": {
          "base_uri": "https://localhost:8080/",
          "height": 102
        },
        "outputId": "6cfe1a7c-bff1-4ded-dd85-d79ae224ea20"
      },
      "source": [
        "\n",
        "#Dimension of Data after Tokenizing and Padding\n",
        "print('Dimension of Training Data: ',train_padded.shape)\n",
        "print('Dimension of Validation Data: ',val_padded.shape)\n",
        "print('Dimension of Training Labels: ',train_labels.shape)\n",
        "print('Dimension of Validation Labels: ',val_labels.shape)\n",
        "print('Dimension of Test Data: ',test_padded.shape)"
      ],
      "execution_count": 13,
      "outputs": [
        {
          "output_type": "stream",
          "text": [
            "Dimension of Training Data:  (28765, 40)\n",
            "Dimension of Validation Data:  (3197, 40)\n",
            "Dimension of Training Labels:  (28765, 1)\n",
            "Dimension of Validation Labels:  (3197, 1)\n",
            "Dimension of Test Data:  (17197, 40)\n"
          ],
          "name": "stdout"
        }
      ]
    },
    {
      "cell_type": "code",
      "metadata": {
        "id": "rcC5FGyJOIdL",
        "colab_type": "code",
        "colab": {
          "base_uri": "https://localhost:8080/",
          "height": 122
        },
        "outputId": "374df659-515c-4ed7-adaa-634adb777452"
      },
      "source": [
        "from google.colab import drive\n",
        "drive.mount('/content/drive',force_remount=True)"
      ],
      "execution_count": 14,
      "outputs": [
        {
          "output_type": "stream",
          "text": [
            "Go to this URL in a browser: https://accounts.google.com/o/oauth2/auth?client_id=947318989803-6bn6qk8qdgf4n4g3pfee6491hc0brc4i.apps.googleusercontent.com&redirect_uri=urn%3aietf%3awg%3aoauth%3a2.0%3aoob&response_type=code&scope=email%20https%3a%2f%2fwww.googleapis.com%2fauth%2fdocs.test%20https%3a%2f%2fwww.googleapis.com%2fauth%2fdrive%20https%3a%2f%2fwww.googleapis.com%2fauth%2fdrive.photos.readonly%20https%3a%2f%2fwww.googleapis.com%2fauth%2fpeopleapi.readonly\n",
            "\n",
            "Enter your authorization code:\n",
            "··········\n",
            "Mounted at /content/drive\n"
          ],
          "name": "stdout"
        }
      ]
    },
    {
      "cell_type": "code",
      "metadata": {
        "id": "mNPhOk6rOQsh",
        "colab_type": "code",
        "colab": {}
      },
      "source": [
        "# Unzipping the fasttext pretrained model from Google Drive\n",
        "import os\n",
        "import zipfile\n",
        "\n",
        "local_zip='/content/drive/My Drive/AVDLapp/wiki-news-300d-1M.vec.zip'\n",
        "zip_ref=zipfile.ZipFile(local_zip,'r')\n",
        "zip_ref.extractall('/content/drive/My Drive/AVDLapp/wiki-news-300d-1M.vec')\n",
        "zip_ref.close()\n"
      ],
      "execution_count": 0,
      "outputs": []
    },
    {
      "cell_type": "code",
      "metadata": {
        "id": "QmxVrYa1UlTp",
        "colab_type": "code",
        "colab": {}
      },
      "source": [
        "# Unzipping the glove 27B twitter pretrained model from Google Drive\n",
        "# !wget --no-check-certificate -P ./data/ \"http://nlp.stanford.edu/data/glove.27B.zip\n",
        "\n",
        "local_zip='/content/drive/My Drive/AVDLapp/38310_58310_compressed_glove.twitter.27B.200d.txt.zip'\n",
        "zip_ref=zipfile.ZipFile(local_zip,'r')\n",
        "zip_ref.extractall('/content/drive/My Drive/AVDLapp/glove.twitter.27B.200d.txt')\n",
        "zip_ref.close()"
      ],
      "execution_count": 0,
      "outputs": []
    },
    {
      "cell_type": "code",
      "metadata": {
        "id": "A0Bh9yK5ZL9I",
        "colab_type": "code",
        "colab": {}
      },
      "source": [
        "# Unzipping the glove 6B twitter pretrained model from Google Drive\n",
        "# !wget --no-check-certificate -P ./data/ \"http://nlp.stanford.edu/data/glove.6B.zip\n",
        "\n",
        "local_zip='/content/drive/My Drive/AVDLapp/5504_8240_compressed_glove.6B.300d.txt.zip'\n",
        "zip_ref=zipfile.ZipFile(local_zip,'r')\n",
        "zip_ref.extractall('/content/drive/My Drive/AVDLapp')\n",
        "zip_ref.close()"
      ],
      "execution_count": 0,
      "outputs": []
    },
    {
      "cell_type": "code",
      "metadata": {
        "id": "sWD9FZdYVxV2",
        "colab_type": "code",
        "colab": {}
      },
      "source": [
        "# Unzipping the Crawl pretrained model from Google Drive\n",
        "\n",
        "local_zip='/content/drive/My Drive/AVDLapp/crawl-300d-2M.vec.zip'\n",
        "zip_ref=zipfile.ZipFile(local_zip,'r')\n",
        "zip_ref.extractall('/content/drive/My Drive/AVDLapp')\n",
        "zip_ref.close()"
      ],
      "execution_count": 0,
      "outputs": []
    },
    {
      "cell_type": "code",
      "metadata": {
        "id": "VDYdju-fPcbw",
        "colab_type": "code",
        "colab": {}
      },
      "source": [
        "# Loading the pretrained vectors\n",
        "embeddings_index1 = {}\n",
        "embeddings_index2 = {}\n",
        "embeddings_index3 = {}\n",
        "embeddings_index4 = {}\n",
        "\n",
        "import numpy as np\n",
        "with open('/content/drive/My Drive/AVDLapp/glove.twitter.27B.200d.txt/glove.twitter.27B.200d.txt') as f:\n",
        "    for line in f:\n",
        "        values = line.split()\n",
        "        word = values[0]\n",
        "        coefs = np.asarray(values[1:], dtype='float16')\n",
        "        embeddings_index1[word] = coefs\n",
        "\n",
        "with open('/content/drive/My Drive/AVDLapp/crawl-300d-2M.vec') as f:\n",
        "    for line in f:\n",
        "        values = line.split()\n",
        "        word = values[0]\n",
        "        coefs = np.asarray(values[1:], dtype='float16')\n",
        "        embeddings_index2[word] = coefs\n",
        "\n",
        "with open('/content/drive/My Drive/AVDLapp/glove.6B.300d.txt') as f:\n",
        "    for line in f:\n",
        "        values = line.split()\n",
        "        word = values[0]\n",
        "        coefs = np.asarray(values[1:], dtype='float16')\n",
        "        embeddings_index3[word] = coefs\n",
        "\n",
        "with open('/content/drive/My Drive/AVDLapp/wiki-news-300d-1M.vec/wiki-news-300d-1M.vec') as f:\n",
        "    for line in f:\n",
        "        values = line.split()\n",
        "        word = values[0]\n",
        "        coefs = np.asarray(values[1:], dtype='float16')\n",
        "        embeddings_index4[word] = coefs"
      ],
      "execution_count": 0,
      "outputs": []
    },
    {
      "cell_type": "code",
      "metadata": {
        "id": "qxqRPvvRPo4c",
        "colab_type": "code",
        "colab": {}
      },
      "source": [
        "#Creating an embedding matrix that contains the vectors of the words in the dataset\n",
        "embedding_dim1=200\n",
        "embedding_dim=300\n",
        "\n",
        "embeddings_matrix1 = np.zeros((vocab_size, embedding_dim1))\n",
        "for word, i in word_index.items():\n",
        "    embedding_vector = embeddings_index1.get(word)\n",
        "    if embedding_vector is not None:\n",
        "        embeddings_matrix1[i] = embedding_vector\n",
        "        \n",
        "        \n",
        "embeddings_matrix2 = np.zeros((vocab_size, embedding_dim))\n",
        "for word, i in word_index.items():\n",
        "    embedding_vector = embeddings_index2.get(word)\n",
        "    if embedding_vector is not None:\n",
        "        embeddings_matrix2[i] = embedding_vector\n",
        "\n",
        "embeddings_matrix3 = np.zeros((vocab_size+1, embedding_dim))\n",
        "for word, i in word_index.items():\n",
        "    embedding_vector = embeddings_index3.get(word)\n",
        "    if embedding_vector is not None:\n",
        "        embeddings_matrix3[i] = embedding_vector\n",
        "\n",
        "embeddings_matrix4 = np.zeros((vocab_size, embedding_dim))\n",
        "for word, i in word_index.items():\n",
        "    embedding_vector = embeddings_index4.get(word)\n",
        "    if embedding_vector is not None:\n",
        "        embeddings_matrix4[i] = embedding_vector"
      ],
      "execution_count": 0,
      "outputs": []
    },
    {
      "cell_type": "code",
      "metadata": {
        "id": "hEzoQaCnPw_C",
        "colab_type": "code",
        "colab": {
          "base_uri": "https://localhost:8080/",
          "height": 85
        },
        "outputId": "5ed904cb-d1f1-460f-c963-db2d47962d2b"
      },
      "source": [
        "print('Shape of the Embeddings Matrix (GloVe Twitter): ',embeddings_matrix1.shape)\n",
        "print('Shape of the Embeddings Matrix (fastText Crawl): ',embeddings_matrix2.shape)\n",
        "print('Shape of the Embeddings Matrix (GloVe Wiki): ',embeddings_matrix3.shape)\n",
        "print('Shape of the Embeddings Matrix (fastText WikiNews): ',embeddings_matrix4.shape)"
      ],
      "execution_count": 17,
      "outputs": [
        {
          "output_type": "stream",
          "text": [
            "Shape of the Embeddings Matrix (GloVe Twitter):  (38364, 200)\n",
            "Shape of the Embeddings Matrix (fastText Crawl):  (38364, 300)\n",
            "Shape of the Embeddings Matrix (GloVe Wiki):  (38365, 300)\n",
            "Shape of the Embeddings Matrix (fastText WikiNews):  (38364, 300)\n"
          ],
          "name": "stdout"
        }
      ]
    },
    {
      "cell_type": "code",
      "metadata": {
        "id": "wmFYtjrxP13t",
        "colab_type": "code",
        "colab": {}
      },
      "source": [
        ""
      ],
      "execution_count": 0,
      "outputs": []
    },
    {
      "cell_type": "markdown",
      "metadata": {
        "id": "fuOz9musP7xW",
        "colab_type": "text"
      },
      "source": [
        "## Building the model using GloVe (Twitter) pretrained embeddings"
      ]
    },
    {
      "cell_type": "code",
      "metadata": {
        "id": "Ot8W-ytWP_s9",
        "colab_type": "code",
        "colab": {}
      },
      "source": [
        "model1_lstm = tf.keras.Sequential([\n",
        "    tf.keras.layers.Embedding(vocab_size, embedding_dim1, input_length=max_length, weights = [embeddings_matrix1], trainable = False),\n",
        "    tf.keras.layers.Dropout(0.4),\n",
        "    tf.keras.layers.Bidirectional(tf.keras.layers.LSTM(128,return_sequences=True)),\n",
        "    tf.keras.layers.Bidirectional(tf.keras.layers.LSTM(128)),\n",
        "    tf.keras.layers.Dropout(0.2),\n",
        "    tf.keras.layers.Dense(128, activation='relu'),\n",
        "   # tf.keras.layers.Dropout(0.4),\n",
        "   # tf.keras.layers.Dense(64, activation='relu'),\n",
        "    tf.keras.layers.Dropout(0.5),\n",
        "    tf.keras.layers.Dense(1, activation='sigmoid')\n",
        "])"
      ],
      "execution_count": 0,
      "outputs": []
    },
    {
      "cell_type": "code",
      "metadata": {
        "id": "hJPkdNRFNHk3",
        "colab_type": "code",
        "colab": {
          "base_uri": "https://localhost:8080/",
          "height": 34
        },
        "outputId": "10f06bdd-95a8-45f0-c3a5-9adea8142df5"
      },
      "source": [
        "# vocab_size\n",
        "print(len(word_index))"
      ],
      "execution_count": 19,
      "outputs": [
        {
          "output_type": "stream",
          "text": [
            "38363\n"
          ],
          "name": "stdout"
        }
      ]
    },
    {
      "cell_type": "code",
      "metadata": {
        "id": "wTuX58_cQaUa",
        "colab_type": "code",
        "colab": {
          "base_uri": "https://localhost:8080/",
          "height": 853
        },
        "outputId": "b2d68d8d-8c49-45ac-e752-c6c20e11c2be"
      },
      "source": [
        "reduce =tf. keras.callbacks.ReduceLROnPlateau(monitor='val_loss', factor=0.1, patience=3, mode='auto')\n",
        "#early = tf.keras.callbacks.EarlyStopping(monitor='val_loss', min_delta=1e-4, patience=10, mode='auto')\n",
        "model1_lstm.compile(loss='binary_crossentropy',optimizer= 'adam',metrics=['accuracy'])\n",
        "\n",
        "model1_lstm.summary()\n",
        "\n",
        "num_epochs = 10\n",
        "\n",
        "print(\"shape of train_padded : \", train_padded.shape)\n",
        "print(\"shape of train_labels : \", train_labels.shape)\n",
        "print(\"shape of val_padded : \", val_padded.shape)\n",
        "print(\"shape of val_labels : \", val_labels.shape)\n",
        "\n",
        "history1=model1_lstm.fit(train_padded, \n",
        "                    train_labels, \n",
        "                    epochs=num_epochs, \n",
        "                    batch_size=128, \n",
        "                    validation_data=(val_padded,val_labels),\n",
        "                    callbacks=[reduce],\n",
        "                    verbose=1)"
      ],
      "execution_count": 20,
      "outputs": [
        {
          "output_type": "stream",
          "text": [
            "Model: \"sequential\"\n",
            "_________________________________________________________________\n",
            "Layer (type)                 Output Shape              Param #   \n",
            "=================================================================\n",
            "embedding (Embedding)        (None, 40, 200)           7672800   \n",
            "_________________________________________________________________\n",
            "dropout (Dropout)            (None, 40, 200)           0         \n",
            "_________________________________________________________________\n",
            "bidirectional (Bidirectional (None, 40, 256)           336896    \n",
            "_________________________________________________________________\n",
            "bidirectional_1 (Bidirection (None, 256)               394240    \n",
            "_________________________________________________________________\n",
            "dropout_1 (Dropout)          (None, 256)               0         \n",
            "_________________________________________________________________\n",
            "dense (Dense)                (None, 128)               32896     \n",
            "_________________________________________________________________\n",
            "dropout_2 (Dropout)          (None, 128)               0         \n",
            "_________________________________________________________________\n",
            "dense_1 (Dense)              (None, 1)                 129       \n",
            "=================================================================\n",
            "Total params: 8,436,961\n",
            "Trainable params: 764,161\n",
            "Non-trainable params: 7,672,800\n",
            "_________________________________________________________________\n",
            "shape of train_padded :  (28765, 40)\n",
            "shape of train_labels :  (28765, 1)\n",
            "shape of val_padded :  (3197, 40)\n",
            "shape of val_labels :  (3197, 1)\n",
            "Epoch 1/10\n",
            "225/225 [==============================] - 151s 672ms/step - loss: 0.1838 - accuracy: 0.9359 - val_loss: 0.1225 - val_accuracy: 0.9543 - lr: 0.0010\n",
            "Epoch 2/10\n",
            "225/225 [==============================] - 149s 664ms/step - loss: 0.1466 - accuracy: 0.9461 - val_loss: 0.1193 - val_accuracy: 0.9543 - lr: 0.0010\n",
            "Epoch 3/10\n",
            "225/225 [==============================] - 148s 660ms/step - loss: 0.1340 - accuracy: 0.9502 - val_loss: 0.1074 - val_accuracy: 0.9559 - lr: 0.0010\n",
            "Epoch 4/10\n",
            "225/225 [==============================] - 148s 658ms/step - loss: 0.1223 - accuracy: 0.9546 - val_loss: 0.0988 - val_accuracy: 0.9631 - lr: 0.0010\n",
            "Epoch 5/10\n",
            "225/225 [==============================] - 148s 659ms/step - loss: 0.1148 - accuracy: 0.9568 - val_loss: 0.0912 - val_accuracy: 0.9681 - lr: 0.0010\n",
            "Epoch 6/10\n",
            "225/225 [==============================] - 148s 656ms/step - loss: 0.1039 - accuracy: 0.9609 - val_loss: 0.0890 - val_accuracy: 0.9668 - lr: 0.0010\n",
            "Epoch 7/10\n",
            "225/225 [==============================] - 148s 657ms/step - loss: 0.0958 - accuracy: 0.9649 - val_loss: 0.0856 - val_accuracy: 0.9659 - lr: 0.0010\n",
            "Epoch 8/10\n",
            "225/225 [==============================] - 148s 658ms/step - loss: 0.0885 - accuracy: 0.9683 - val_loss: 0.0876 - val_accuracy: 0.9681 - lr: 0.0010\n",
            "Epoch 9/10\n",
            "225/225 [==============================] - 147s 651ms/step - loss: 0.0801 - accuracy: 0.9705 - val_loss: 0.0933 - val_accuracy: 0.9600 - lr: 0.0010\n",
            "Epoch 10/10\n",
            "225/225 [==============================] - 146s 651ms/step - loss: 0.0728 - accuracy: 0.9733 - val_loss: 0.0918 - val_accuracy: 0.9668 - lr: 0.0010\n"
          ],
          "name": "stdout"
        }
      ]
    },
    {
      "cell_type": "code",
      "metadata": {
        "id": "T2Fq4bT3QiJD",
        "colab_type": "code",
        "colab": {
          "base_uri": "https://localhost:8080/",
          "height": 731
        },
        "outputId": "7309b877-0f7c-456d-ac7b-9f74b25332ab"
      },
      "source": [
        "\n",
        "#Determining the optimal threshold value to seggregate the classes\n",
        "pred1= model1_lstm.predict(val_padded, batch_size=128,verbose=1)\n",
        "from sklearn import metrics\n",
        "for thresh in np.arange(0.1, 0.501, 0.01):\n",
        "    thresh = np.round(thresh, 2)\n",
        "    print(\"F1 score at threshold {0} is {1}\".format(thresh, metrics.f1_score(val_labels, (pred1>thresh).astype(int))))"
      ],
      "execution_count": 21,
      "outputs": [
        {
          "output_type": "stream",
          "text": [
            "25/25 [==============================] - 5s 205ms/step\n",
            "F1 score at threshold 0.1 is 0.5931232091690545\n",
            "F1 score at threshold 0.11 is 0.6002928257686676\n",
            "F1 score at threshold 0.12 is 0.608695652173913\n",
            "F1 score at threshold 0.13 is 0.6292834890965733\n",
            "F1 score at threshold 0.14 is 0.6442307692307692\n",
            "F1 score at threshold 0.15 is 0.6556291390728477\n",
            "F1 score at threshold 0.16 is 0.6621621621621622\n",
            "F1 score at threshold 0.17 is 0.6632302405498282\n",
            "F1 score at threshold 0.18 is 0.6725043782837128\n",
            "F1 score at threshold 0.19 is 0.6797153024911031\n",
            "F1 score at threshold 0.2 is 0.6835443037974683\n",
            "F1 score at threshold 0.21 is 0.687615526802218\n",
            "F1 score at threshold 0.22 is 0.700952380952381\n",
            "F1 score at threshold 0.23 is 0.7063339731285989\n",
            "F1 score at threshold 0.24 is 0.708171206225681\n",
            "F1 score at threshold 0.25 is 0.7182539682539683\n",
            "F1 score at threshold 0.26 is 0.7171314741035856\n",
            "F1 score at threshold 0.27 is 0.7217741935483871\n",
            "F1 score at threshold 0.28 is 0.726530612244898\n",
            "F1 score at threshold 0.29 is 0.7227926078028747\n",
            "F1 score at threshold 0.3 is 0.7276507276507277\n",
            "F1 score at threshold 0.31 is 0.7368421052631579\n",
            "F1 score at threshold 0.32 is 0.7372881355932204\n",
            "F1 score at threshold 0.33 is 0.7408993576017131\n",
            "F1 score at threshold 0.34 is 0.7413793103448276\n",
            "F1 score at threshold 0.35 is 0.7418655097613883\n",
            "F1 score at threshold 0.36 is 0.7407407407407407\n",
            "F1 score at threshold 0.37 is 0.7439824945295406\n",
            "F1 score at threshold 0.38 is 0.7488986784140969\n",
            "F1 score at threshold 0.39 is 0.7511111111111111\n",
            "F1 score at threshold 0.4 is 0.7500000000000001\n",
            "F1 score at threshold 0.41 is 0.7533632286995516\n",
            "F1 score at threshold 0.42 is 0.7522522522522521\n",
            "F1 score at threshold 0.43 is 0.755656108597285\n",
            "F1 score at threshold 0.44 is 0.7471526195899773\n",
            "F1 score at threshold 0.45 is 0.745995423340961\n",
            "F1 score at threshold 0.46 is 0.7494252873563219\n",
            "F1 score at threshold 0.47 is 0.751740139211137\n",
            "F1 score at threshold 0.48 is 0.7523364485981309\n",
            "F1 score at threshold 0.49 is 0.7523364485981309\n",
            "F1 score at threshold 0.5 is 0.7511737089201879\n"
          ],
          "name": "stdout"
        }
      ]
    },
    {
      "cell_type": "code",
      "metadata": {
        "id": "0Utkt33zQl4r",
        "colab_type": "code",
        "colab": {
          "base_uri": "https://localhost:8080/",
          "height": 521
        },
        "outputId": "b92b39bc-5b97-4b34-bb77-371772399f92"
      },
      "source": [
        "#From above, we can see that F1 score is highest at a threshold of 0.4\n",
        "pred_val_labels1=(pred1>0.4).astype(int)\n",
        "\n",
        "from sklearn.metrics import classification_report\n",
        "print(classification_report(val_labels,pred_val_labels1))\n",
        "\n",
        "import matplotlib.pyplot as plt\n",
        "from sklearn.metrics import confusion_matrix\n",
        "print(confusion_matrix(val_labels, pred_val_labels1))\n",
        "CM = confusion_matrix(val_labels, pred_val_labels1)\n",
        "from mlxtend.plotting import plot_confusion_matrix\n",
        "fig, ax = plot_confusion_matrix(conf_mat=CM ,  figsize=(5, 5))\n",
        "plt.show()"
      ],
      "execution_count": 22,
      "outputs": [
        {
          "output_type": "stream",
          "text": [
            "              precision    recall  f1-score   support\n",
            "\n",
            "           0       0.98      0.98      0.98      2966\n",
            "           1       0.77      0.73      0.75       231\n",
            "\n",
            "    accuracy                           0.96      3197\n",
            "   macro avg       0.88      0.86      0.87      3197\n",
            "weighted avg       0.96      0.96      0.96      3197\n",
            "\n",
            "[[2917   49]\n",
            " [  63  168]]\n"
          ],
          "name": "stdout"
        },
        {
          "output_type": "display_data",
          "data": {
            "image/png": "[encoded data removed]",
            "text/plain": [
              "<Figure size 360x360 with 1 Axes>"
            ]
          },
          "metadata": {
            "tags": [],
            "needs_background": "light"
          }
        }
      ]
    },
    {
      "cell_type": "code",
      "metadata": {
        "id": "tLRAk5SbQrVt",
        "colab_type": "code",
        "colab": {}
      },
      "source": [
        ""
      ],
      "execution_count": 0,
      "outputs": []
    },
    {
      "cell_type": "markdown",
      "metadata": {
        "id": "Bzn8KL6WQvHv",
        "colab_type": "text"
      },
      "source": [
        "## Building the model using fastText (Common Crawl) pretrained embeddings"
      ]
    },
    {
      "cell_type": "code",
      "metadata": {
        "id": "cYcgu7akQxqF",
        "colab_type": "code",
        "colab": {}
      },
      "source": [
        "model2_lstm = tf.keras.Sequential([\n",
        "    tf.keras.layers.Embedding(vocab_size, embedding_dim, input_length=max_length, weights = [embeddings_matrix2], trainable = False),\n",
        "    tf.keras.layers.Dropout(0.6),\n",
        "    tf.keras.layers.Bidirectional(tf.keras.layers.LSTM(128,return_sequences=True)),\n",
        "    tf.keras.layers.Dropout(0.4),\n",
        "    tf.keras.layers.Bidirectional(tf.keras.layers.LSTM(128)),\n",
        "    tf.keras.layers.Dropout(0.4),\n",
        "    tf.keras.layers.Dense(128, activation='relu'),\n",
        "    tf.keras.layers.Dropout(0.2),\n",
        "    tf.keras.layers.Dense(64, activation='relu'),\n",
        "    tf.keras.layers.Dropout(0.3),\n",
        "    tf.keras.layers.Dense(1, activation='sigmoid')\n",
        "])"
      ],
      "execution_count": 0,
      "outputs": []
    },
    {
      "cell_type": "code",
      "metadata": {
        "id": "iw3lNcuDQ6Xd",
        "colab_type": "code",
        "colab": {
          "base_uri": "https://localhost:8080/",
          "height": 377
        },
        "outputId": "f39f67e5-989f-4874-9c0b-9f46ad46966c"
      },
      "source": [
        "reduce =tf. keras.callbacks.ReduceLROnPlateau(monitor='val_loss', factor=0.1, patience=3, mode='auto')\n",
        "#early = tf.keras.callbacks.EarlyStopping(monitor='val_loss', min_delta=1e-4, patience=10, mode='auto')\n",
        "model2_lstm.compile(loss='binary_crossentropy',optimizer='adam',metrics=['accuracy'])\n",
        "num_epochs = 10\n",
        "history2=model2_lstm.fit(train_padded, \n",
        "                    train_labels, \n",
        "                    epochs=num_epochs, \n",
        "                    batch_size=128, \n",
        "                    validation_data=(val_padded,val_labels),\n",
        "                    callbacks=[reduce],\n",
        "                    verbose=1)"
      ],
      "execution_count": 26,
      "outputs": [
        {
          "output_type": "stream",
          "text": [
            "Epoch 1/10\n",
            "225/225 [==============================] - 160s 711ms/step - loss: 0.1979 - accuracy: 0.9306 - val_loss: 0.1193 - val_accuracy: 0.9562 - lr: 0.0010\n",
            "Epoch 2/10\n",
            "225/225 [==============================] - 159s 708ms/step - loss: 0.1526 - accuracy: 0.9467 - val_loss: 0.1128 - val_accuracy: 0.9581 - lr: 0.0010\n",
            "Epoch 3/10\n",
            "225/225 [==============================] - 163s 723ms/step - loss: 0.1428 - accuracy: 0.9500 - val_loss: 0.1142 - val_accuracy: 0.9581 - lr: 0.0010\n",
            "Epoch 4/10\n",
            "225/225 [==============================] - 163s 726ms/step - loss: 0.1382 - accuracy: 0.9509 - val_loss: 0.1089 - val_accuracy: 0.9618 - lr: 0.0010\n",
            "Epoch 5/10\n",
            "225/225 [==============================] - 164s 728ms/step - loss: 0.1319 - accuracy: 0.9531 - val_loss: 0.1044 - val_accuracy: 0.9606 - lr: 0.0010\n",
            "Epoch 6/10\n",
            "225/225 [==============================] - 164s 730ms/step - loss: 0.1273 - accuracy: 0.9542 - val_loss: 0.0988 - val_accuracy: 0.9650 - lr: 0.0010\n",
            "Epoch 7/10\n",
            "225/225 [==============================] - 165s 734ms/step - loss: 0.1238 - accuracy: 0.9556 - val_loss: 0.0975 - val_accuracy: 0.9631 - lr: 0.0010\n",
            "Epoch 8/10\n",
            "225/225 [==============================] - 163s 726ms/step - loss: 0.1194 - accuracy: 0.9569 - val_loss: 0.0927 - val_accuracy: 0.9668 - lr: 0.0010\n",
            "Epoch 9/10\n",
            "225/225 [==============================] - 162s 718ms/step - loss: 0.1134 - accuracy: 0.9567 - val_loss: 0.0930 - val_accuracy: 0.9659 - lr: 0.0010\n",
            "Epoch 10/10\n",
            "225/225 [==============================] - 161s 715ms/step - loss: 0.1075 - accuracy: 0.9604 - val_loss: 0.0872 - val_accuracy: 0.9678 - lr: 0.0010\n"
          ],
          "name": "stdout"
        }
      ]
    },
    {
      "cell_type": "code",
      "metadata": {
        "id": "sTAKyw2SQ-DU",
        "colab_type": "code",
        "colab": {
          "base_uri": "https://localhost:8080/",
          "height": 731
        },
        "outputId": "58cab30e-6049-49fd-c6fe-d9ec17f204a6"
      },
      "source": [
        "#Determining the optimal threshold value to seggregate the classes\n",
        "pred2= model2_lstm.predict(val_padded, batch_size=128,verbose=1)\n",
        "from sklearn import metrics\n",
        "for thresh in np.arange(0.1, 0.501, 0.01):\n",
        "    thresh = np.round(thresh, 2)\n",
        "    print(\"F1 score at threshold {0} is {1}\".format(thresh, metrics.f1_score(val_labels, (pred2>thresh).astype(int))))"
      ],
      "execution_count": 27,
      "outputs": [
        {
          "output_type": "stream",
          "text": [
            "25/25 [==============================] - 6s 223ms/step\n",
            "F1 score at threshold 0.1 is 0.6510903426791278\n",
            "F1 score at threshold 0.11 is 0.6613418530351437\n",
            "F1 score at threshold 0.12 is 0.6655844155844156\n",
            "F1 score at threshold 0.13 is 0.6835016835016835\n",
            "F1 score at threshold 0.14 is 0.6905982905982907\n",
            "F1 score at threshold 0.15 is 0.7026086956521739\n",
            "F1 score at threshold 0.16 is 0.7175843694493784\n",
            "F1 score at threshold 0.17 is 0.7217235188509874\n",
            "F1 score at threshold 0.18 is 0.7285974499089253\n",
            "F1 score at threshold 0.19 is 0.7329650092081031\n",
            "F1 score at threshold 0.2 is 0.7327102803738318\n",
            "F1 score at threshold 0.21 is 0.7376425855513308\n",
            "F1 score at threshold 0.22 is 0.7408829174664109\n",
            "F1 score at threshold 0.23 is 0.7431906614785992\n",
            "F1 score at threshold 0.24 is 0.7387033398821218\n",
            "F1 score at threshold 0.25 is 0.7391304347826089\n",
            "F1 score at threshold 0.26 is 0.7355864811133203\n",
            "F1 score at threshold 0.27 is 0.7370517928286852\n",
            "F1 score at threshold 0.28 is 0.7389558232931727\n",
            "F1 score at threshold 0.29 is 0.7479674796747968\n",
            "F1 score at threshold 0.3 is 0.7463917525773196\n",
            "F1 score at threshold 0.31 is 0.750524109014675\n",
            "F1 score at threshold 0.32 is 0.7552742616033755\n",
            "F1 score at threshold 0.33 is 0.7552742616033755\n",
            "F1 score at threshold 0.34 is 0.7584745762711864\n",
            "F1 score at threshold 0.35 is 0.7564102564102563\n",
            "F1 score at threshold 0.36 is 0.753747323340471\n",
            "F1 score at threshold 0.37 is 0.7569892473118279\n",
            "F1 score at threshold 0.38 is 0.7478260869565218\n",
            "F1 score at threshold 0.39 is 0.7522123893805309\n",
            "F1 score at threshold 0.4 is 0.7522123893805309\n",
            "F1 score at threshold 0.41 is 0.7538802660753879\n",
            "F1 score at threshold 0.42 is 0.7488789237668162\n",
            "F1 score at threshold 0.43 is 0.744920993227991\n",
            "F1 score at threshold 0.44 is 0.7454545454545455\n",
            "F1 score at threshold 0.45 is 0.7442922374429224\n",
            "F1 score at threshold 0.46 is 0.7448275862068966\n",
            "F1 score at threshold 0.47 is 0.7441860465116279\n",
            "F1 score at threshold 0.48 is 0.7464788732394366\n",
            "F1 score at threshold 0.49 is 0.7517730496453902\n",
            "F1 score at threshold 0.5 is 0.7553444180522566\n"
          ],
          "name": "stdout"
        }
      ]
    },
    {
      "cell_type": "code",
      "metadata": {
        "id": "ggRsk04HRDNP",
        "colab_type": "code",
        "colab": {
          "base_uri": "https://localhost:8080/",
          "height": 521
        },
        "outputId": "e59c65bf-f8e4-4bd7-cffd-1bda5735c0cb"
      },
      "source": [
        "pred_val_labels2=(pred2>0.42).astype(int)\n",
        "\n",
        "from sklearn.metrics import classification_report\n",
        "print(classification_report(val_labels,pred_val_labels2))\n",
        "\n",
        "import matplotlib.pyplot as plt\n",
        "from sklearn.metrics import confusion_matrix\n",
        "print(confusion_matrix(val_labels, pred_val_labels2))\n",
        "CM = confusion_matrix(val_labels, pred_val_labels2)\n",
        "from mlxtend.plotting import plot_confusion_matrix\n",
        "fig, ax = plot_confusion_matrix(conf_mat=CM ,  figsize=(5, 5))\n",
        "plt.show()"
      ],
      "execution_count": 28,
      "outputs": [
        {
          "output_type": "stream",
          "text": [
            "              precision    recall  f1-score   support\n",
            "\n",
            "           0       0.98      0.98      0.98      2966\n",
            "           1       0.78      0.72      0.75       231\n",
            "\n",
            "    accuracy                           0.96      3197\n",
            "   macro avg       0.88      0.85      0.87      3197\n",
            "weighted avg       0.96      0.96      0.96      3197\n",
            "\n",
            "[[2918   48]\n",
            " [  64  167]]\n"
          ],
          "name": "stdout"
        },
        {
          "output_type": "display_data",
          "data": {
            "image/png": "[encoded data removed]",
            "text/plain": [
              "<Figure size 360x360 with 1 Axes>"
            ]
          },
          "metadata": {
            "tags": [],
            "needs_background": "light"
          }
        }
      ]
    },
    {
      "cell_type": "code",
      "metadata": {
        "id": "JMVllumqRIip",
        "colab_type": "code",
        "colab": {}
      },
      "source": [
        ""
      ],
      "execution_count": 0,
      "outputs": []
    },
    {
      "cell_type": "markdown",
      "metadata": {
        "id": "JCRYMtVCRMMe",
        "colab_type": "text"
      },
      "source": [
        "## Building the model using GloVe(Wiki) pretrained embeddings"
      ]
    },
    {
      "cell_type": "code",
      "metadata": {
        "id": "2gxkVkThROE9",
        "colab_type": "code",
        "colab": {}
      },
      "source": [
        "model3_lstm = tf.keras.Sequential([\n",
        "    tf.keras.layers.Embedding(vocab_size+1, embedding_dim, input_length=max_length, weights = [embeddings_matrix3], trainable = False),\n",
        "    tf.keras.layers.Dropout(0.6),\n",
        "    tf.keras.layers.Bidirectional(tf.keras.layers.LSTM(128,return_sequences=True)),\n",
        "    tf.keras.layers.Dropout(0.4),\n",
        "    tf.keras.layers.Bidirectional(tf.keras.layers.LSTM(128)),\n",
        "    tf.keras.layers.Dropout(0.4),\n",
        "    tf.keras.layers.Dense(128, activation='relu'),\n",
        "    tf.keras.layers.Dropout(0.2),\n",
        "    tf.keras.layers.Dense(64, activation='relu'),\n",
        "    tf.keras.layers.Dropout(0.3),\n",
        "    tf.keras.layers.Dense(1, activation='sigmoid')\n",
        "])"
      ],
      "execution_count": 0,
      "outputs": []
    },
    {
      "cell_type": "code",
      "metadata": {
        "id": "CSB45-sGRUpP",
        "colab_type": "code",
        "colab": {
          "base_uri": "https://localhost:8080/",
          "height": 377
        },
        "outputId": "e1fcb517-0f92-4888-e0be-5294d8b61c68"
      },
      "source": [
        "reduce =tf. keras.callbacks.ReduceLROnPlateau(monitor='val_loss', factor=0.1, patience=3, mode='auto')\n",
        "#early = tf.keras.callbacks.EarlyStopping(monitor='val_loss', min_delta=1e-4, patience=10, mode='auto')\n",
        "model3_lstm.compile(loss='binary_crossentropy',optimizer='adam',metrics=['accuracy'])\n",
        "num_epochs = 10\n",
        "history3=model3_lstm.fit(train_padded, \n",
        "                    train_labels, \n",
        "                    epochs=num_epochs, \n",
        "                    batch_size=128, \n",
        "                    validation_data=(val_padded,val_labels),\n",
        "                    callbacks=[reduce],\n",
        "                    verbose=1)"
      ],
      "execution_count": 31,
      "outputs": [
        {
          "output_type": "stream",
          "text": [
            "Epoch 1/10\n",
            "225/225 [==============================] - 163s 726ms/step - loss: 0.2025 - accuracy: 0.9326 - val_loss: 0.1430 - val_accuracy: 0.9421 - lr: 0.0010\n",
            "Epoch 2/10\n",
            "225/225 [==============================] - 161s 717ms/step - loss: 0.1642 - accuracy: 0.9426 - val_loss: 0.1184 - val_accuracy: 0.9546 - lr: 0.0010\n",
            "Epoch 3/10\n",
            "225/225 [==============================] - 162s 718ms/step - loss: 0.1501 - accuracy: 0.9466 - val_loss: 0.1113 - val_accuracy: 0.9587 - lr: 0.0010\n",
            "Epoch 4/10\n",
            "225/225 [==============================] - 162s 720ms/step - loss: 0.1412 - accuracy: 0.9505 - val_loss: 0.1049 - val_accuracy: 0.9628 - lr: 0.0010\n",
            "Epoch 5/10\n",
            "225/225 [==============================] - 162s 722ms/step - loss: 0.1328 - accuracy: 0.9524 - val_loss: 0.1078 - val_accuracy: 0.9631 - lr: 0.0010\n",
            "Epoch 6/10\n",
            "225/225 [==============================] - 162s 720ms/step - loss: 0.1283 - accuracy: 0.9544 - val_loss: 0.1044 - val_accuracy: 0.9593 - lr: 0.0010\n",
            "Epoch 7/10\n",
            "225/225 [==============================] - 163s 722ms/step - loss: 0.1218 - accuracy: 0.9570 - val_loss: 0.0951 - val_accuracy: 0.9653 - lr: 0.0010\n",
            "Epoch 8/10\n",
            "225/225 [==============================] - 162s 718ms/step - loss: 0.1161 - accuracy: 0.9594 - val_loss: 0.0968 - val_accuracy: 0.9640 - lr: 0.0010\n",
            "Epoch 9/10\n",
            "225/225 [==============================] - 162s 719ms/step - loss: 0.1108 - accuracy: 0.9602 - val_loss: 0.0962 - val_accuracy: 0.9656 - lr: 0.0010\n",
            "Epoch 10/10\n",
            "225/225 [==============================] - 163s 725ms/step - loss: 0.1077 - accuracy: 0.9613 - val_loss: 0.1011 - val_accuracy: 0.9603 - lr: 0.0010\n"
          ],
          "name": "stdout"
        }
      ]
    },
    {
      "cell_type": "code",
      "metadata": {
        "id": "jzRqNn3ORYLc",
        "colab_type": "code",
        "colab": {
          "base_uri": "https://localhost:8080/",
          "height": 731
        },
        "outputId": "12eba60f-1896-4ce0-8f14-8772d51cc112"
      },
      "source": [
        "#Determining the optimal threshold value to seggregate the classes\n",
        "pred3= model3_lstm.predict(val_padded, batch_size=128,verbose=1)\n",
        "from sklearn import metrics\n",
        "for thresh in np.arange(0.1, 0.501, 0.01):\n",
        "    thresh = np.round(thresh, 2)\n",
        "    print(\"F1 score at threshold {0} is {1}\".format(thresh, metrics.f1_score(val_labels, (pred3>thresh).astype(int))))"
      ],
      "execution_count": 32,
      "outputs": [
        {
          "output_type": "stream",
          "text": [
            "25/25 [==============================] - 6s 222ms/step\n",
            "F1 score at threshold 0.1 is 0.5609436435124509\n",
            "F1 score at threshold 0.11 is 0.572199730094467\n",
            "F1 score at threshold 0.12 is 0.5824175824175823\n",
            "F1 score at threshold 0.13 is 0.5921787709497207\n",
            "F1 score at threshold 0.14 is 0.6019971469329529\n",
            "F1 score at threshold 0.15 is 0.6069364161849711\n",
            "F1 score at threshold 0.16 is 0.6147058823529412\n",
            "F1 score at threshold 0.17 is 0.6238805970149254\n",
            "F1 score at threshold 0.18 is 0.6291793313069909\n",
            "F1 score at threshold 0.19 is 0.6377708978328174\n",
            "F1 score at threshold 0.2 is 0.6467817896389325\n",
            "F1 score at threshold 0.21 is 0.6549520766773163\n",
            "F1 score at threshold 0.22 is 0.6645056726094003\n",
            "F1 score at threshold 0.23 is 0.6677524429967426\n",
            "F1 score at threshold 0.24 is 0.6721311475409836\n",
            "F1 score at threshold 0.25 is 0.6688741721854305\n",
            "F1 score at threshold 0.26 is 0.6778523489932885\n",
            "F1 score at threshold 0.27 is 0.6836734693877551\n",
            "F1 score at threshold 0.28 is 0.689655172413793\n",
            "F1 score at threshold 0.29 is 0.6921739130434783\n",
            "F1 score at threshold 0.3 is 0.6867256637168142\n",
            "F1 score at threshold 0.31 is 0.6903914590747331\n",
            "F1 score at threshold 0.32 is 0.6905187835420393\n",
            "F1 score at threshold 0.33 is 0.6907775768535263\n",
            "F1 score at threshold 0.34 is 0.6920289855072463\n",
            "F1 score at threshold 0.35 is 0.697080291970803\n",
            "F1 score at threshold 0.36 is 0.7022058823529411\n",
            "F1 score at threshold 0.37 is 0.7050092764378479\n",
            "F1 score at threshold 0.38 is 0.7091932457786116\n",
            "F1 score at threshold 0.39 is 0.7159090909090909\n",
            "F1 score at threshold 0.4 is 0.713472485768501\n",
            "F1 score at threshold 0.41 is 0.7151051625239006\n",
            "F1 score at threshold 0.42 is 0.7178502879078695\n",
            "F1 score at threshold 0.43 is 0.7195357833655706\n",
            "F1 score at threshold 0.44 is 0.7237354085603113\n",
            "F1 score at threshold 0.45 is 0.7229862475442043\n",
            "F1 score at threshold 0.46 is 0.7261904761904762\n",
            "F1 score at threshold 0.47 is 0.7283702213279677\n",
            "F1 score at threshold 0.48 is 0.728744939271255\n",
            "F1 score at threshold 0.49 is 0.7351129363449692\n",
            "F1 score at threshold 0.5 is 0.7348643006263048\n"
          ],
          "name": "stdout"
        }
      ]
    },
    {
      "cell_type": "code",
      "metadata": {
        "id": "wtukEe_4Rbsq",
        "colab_type": "code",
        "colab": {
          "base_uri": "https://localhost:8080/",
          "height": 521
        },
        "outputId": "f7fe8a51-39c6-418e-b851-0afb51091d71"
      },
      "source": [
        "pred_val_labels3=(pred3>0.45).astype(int)\n",
        "\n",
        "from sklearn.metrics import classification_report\n",
        "print(classification_report(val_labels,pred_val_labels3))\n",
        "\n",
        "import matplotlib.pyplot as plt\n",
        "from sklearn.metrics import confusion_matrix\n",
        "print(confusion_matrix(val_labels, pred_val_labels3))\n",
        "CM = confusion_matrix(val_labels, pred_val_labels3)\n",
        "from mlxtend.plotting import plot_confusion_matrix\n",
        "fig, ax = plot_confusion_matrix(conf_mat=CM ,  figsize=(5, 5))\n",
        "plt.show()"
      ],
      "execution_count": 33,
      "outputs": [
        {
          "output_type": "stream",
          "text": [
            "              precision    recall  f1-score   support\n",
            "\n",
            "           0       0.98      0.97      0.98      2966\n",
            "           1       0.66      0.80      0.72       231\n",
            "\n",
            "    accuracy                           0.96      3197\n",
            "   macro avg       0.82      0.88      0.85      3197\n",
            "weighted avg       0.96      0.96      0.96      3197\n",
            "\n",
            "[[2872   94]\n",
            " [  47  184]]\n"
          ],
          "name": "stdout"
        },
        {
          "output_type": "display_data",
          "data": {
            "image/png": "[encoded data removed]",
            "text/plain": [
              "<Figure size 360x360 with 1 Axes>"
            ]
          },
          "metadata": {
            "tags": [],
            "needs_background": "light"
          }
        }
      ]
    },
    {
      "cell_type": "code",
      "metadata": {
        "id": "6KuN8z48RenV",
        "colab_type": "code",
        "colab": {}
      },
      "source": [
        ""
      ],
      "execution_count": 0,
      "outputs": []
    },
    {
      "cell_type": "markdown",
      "metadata": {
        "id": "08LLWhEkRjIj",
        "colab_type": "text"
      },
      "source": [
        "## Ensemble Model"
      ]
    },
    {
      "cell_type": "code",
      "metadata": {
        "id": "b6TlkcMNRkRo",
        "colab_type": "code",
        "colab": {
          "base_uri": "https://localhost:8080/",
          "height": 765
        },
        "outputId": "c1a1976e-ca2d-4525-e1ba-8355bca72f06"
      },
      "source": [
        "pred1_l = model1_lstm.predict(val_padded, batch_size=256,verbose=1)\n",
        "pred2_l = model2_lstm.predict(val_padded, batch_size=256,verbose=1)\n",
        "pred3_1 = model3_lstm.predict(val_padded, batch_size=256,verbose=1)\n",
        "pred_val = 0.5*pred1_l + 0.25*pred2_l + 0.25*pred3_1\n",
        "\n",
        "for thresh in np.arange(0.1, 0.501, 0.01):\n",
        "    thresh = np.round(thresh, 2)\n",
        "    print(\"F1 score at threshold {0} is {1}\".format(thresh, metrics.f1_score(val_labels, (pred_val>thresh).astype(int))))"
      ],
      "execution_count": 34,
      "outputs": [
        {
          "output_type": "stream",
          "text": [
            "13/13 [==============================] - 4s 337ms/step\n",
            "13/13 [==============================] - 5s 376ms/step\n",
            "13/13 [==============================] - 5s 372ms/step\n",
            "F1 score at threshold 0.1 is 0.5994550408719345\n",
            "F1 score at threshold 0.11 is 0.6123595505617977\n",
            "F1 score at threshold 0.12 is 0.6271676300578034\n",
            "F1 score at threshold 0.13 is 0.642962962962963\n",
            "F1 score at threshold 0.14 is 0.6646153846153847\n",
            "F1 score at threshold 0.15 is 0.670846394984326\n",
            "F1 score at threshold 0.16 is 0.6869983948635634\n",
            "F1 score at threshold 0.17 is 0.6918032786885246\n",
            "F1 score at threshold 0.18 is 0.7046979865771812\n",
            "F1 score at threshold 0.19 is 0.7167235494880546\n",
            "F1 score at threshold 0.2 is 0.7219343696027634\n",
            "F1 score at threshold 0.21 is 0.7205623901581721\n",
            "F1 score at threshold 0.22 is 0.7282415630550622\n",
            "F1 score at threshold 0.23 is 0.7341772151898734\n",
            "F1 score at threshold 0.24 is 0.7282809611829943\n",
            "F1 score at threshold 0.25 is 0.7313432835820894\n",
            "F1 score at threshold 0.26 is 0.7400379506641367\n",
            "F1 score at threshold 0.27 is 0.7403100775193798\n",
            "F1 score at threshold 0.28 is 0.7465618860510805\n",
            "F1 score at threshold 0.29 is 0.750499001996008\n",
            "F1 score at threshold 0.3 is 0.7525150905432595\n",
            "F1 score at threshold 0.31 is 0.762295081967213\n",
            "F1 score at threshold 0.32 is 0.7634854771784233\n",
            "F1 score at threshold 0.33 is 0.7631027253668763\n",
            "F1 score at threshold 0.34 is 0.7744680851063829\n",
            "F1 score at threshold 0.35 is 0.7751605995717344\n",
            "F1 score at threshold 0.36 is 0.7732181425485961\n",
            "F1 score at threshold 0.37 is 0.7816593886462883\n",
            "F1 score at threshold 0.38 is 0.7885462555066078\n",
            "F1 score at threshold 0.39 is 0.7874720357941833\n",
            "F1 score at threshold 0.4 is 0.7820224719101123\n",
            "F1 score at threshold 0.41 is 0.7790432801822325\n",
            "F1 score at threshold 0.42 is 0.7790432801822325\n",
            "F1 score at threshold 0.43 is 0.7780320366132724\n",
            "F1 score at threshold 0.44 is 0.7798165137614679\n",
            "F1 score at threshold 0.45 is 0.7777777777777778\n",
            "F1 score at threshold 0.46 is 0.7795823665893271\n",
            "F1 score at threshold 0.47 is 0.7795823665893271\n",
            "F1 score at threshold 0.48 is 0.7822014051522248\n",
            "F1 score at threshold 0.49 is 0.7819905213270142\n",
            "F1 score at threshold 0.5 is 0.7721822541966428\n"
          ],
          "name": "stdout"
        }
      ]
    },
    {
      "cell_type": "code",
      "metadata": {
        "id": "tsNeC9TkRnTr",
        "colab_type": "code",
        "colab": {
          "base_uri": "https://localhost:8080/",
          "height": 521
        },
        "outputId": "77641a93-2587-4157-a285-aa6f1e31eccc"
      },
      "source": [
        "pred_val_labels=(pred_val>0.33).astype(int)\n",
        "\n",
        "from sklearn.metrics import classification_report\n",
        "print(classification_report(val_labels,pred_val_labels))\n",
        "\n",
        "import matplotlib.pyplot as plt\n",
        "from sklearn.metrics import confusion_matrix\n",
        "print(confusion_matrix(val_labels, pred_val_labels))\n",
        "CM = confusion_matrix(val_labels, pred_val_labels)\n",
        "from mlxtend.plotting import plot_confusion_matrix\n",
        "fig, ax = plot_confusion_matrix(conf_mat=CM ,  figsize=(5, 5))\n",
        "plt.show()"
      ],
      "execution_count": 35,
      "outputs": [
        {
          "output_type": "stream",
          "text": [
            "              precision    recall  f1-score   support\n",
            "\n",
            "           0       0.98      0.98      0.98      2966\n",
            "           1       0.74      0.79      0.76       231\n",
            "\n",
            "    accuracy                           0.96      3197\n",
            "   macro avg       0.86      0.88      0.87      3197\n",
            "weighted avg       0.97      0.96      0.97      3197\n",
            "\n",
            "[[2902   64]\n",
            " [  49  182]]\n"
          ],
          "name": "stdout"
        },
        {
          "output_type": "display_data",
          "data": {
            "image/png": "[encoded data removed]",
            "text/plain": [
              "<Figure size 360x360 with 1 Axes>"
            ]
          },
          "metadata": {
            "tags": [],
            "needs_background": "light"
          }
        }
      ]
    },
    {
      "cell_type": "code",
      "metadata": {
        "id": "ta6XWb03RrJP",
        "colab_type": "code",
        "colab": {}
      },
      "source": [
        ""
      ],
      "execution_count": 0,
      "outputs": []
    },
    {
      "cell_type": "markdown",
      "metadata": {
        "id": "WA2YBWqZRuY2",
        "colab_type": "text"
      },
      "source": [
        "## Ensemble Model gives the best F1 Score"
      ]
    },
    {
      "cell_type": "code",
      "metadata": {
        "id": "YCCkA5ujRvbI",
        "colab_type": "code",
        "colab": {
          "base_uri": "https://localhost:8080/",
          "height": 68
        },
        "outputId": "3e112001-a3db-4422-baba-5405de2ea784"
      },
      "source": [
        "\n",
        "pred_test1 = model1_lstm.predict(test_padded, batch_size=256,verbose=1)\n",
        "pred_test2 = model2_lstm.predict(test_padded, batch_size=256,verbose=1)\n",
        "pred_test3 = model3_lstm.predict(test_padded, batch_size=256,verbose=1)\n",
        "pred_test = 0.5*pred_test1 + 0.25*pred_test2 + 0.25*pred_test3 \n",
        "pred_test_labels = (pred_test>0.33).astype(int)\n",
        "out_df = pd.DataFrame({'id':df_test['id'].values})\n",
        "out_df['label'] = pred_test_labels\n",
        "out_df.to_csv('/content/drive/My Drive/AVDLapp/submission.csv', index=False)"
      ],
      "execution_count": 37,
      "outputs": [
        {
          "output_type": "stream",
          "text": [
            "68/68 [==============================] - 25s 369ms/step\n",
            "68/68 [==============================] - 28s 409ms/step\n",
            "68/68 [==============================] - 28s 409ms/step\n"
          ],
          "name": "stdout"
        }
      ]
    },
    {
      "cell_type": "code",
      "metadata": {
        "id": "ggCrBqiwRyS2",
        "colab_type": "code",
        "colab": {}
      },
      "source": [
        ""
      ],
      "execution_count": 0,
      "outputs": []
    }
  ]
}